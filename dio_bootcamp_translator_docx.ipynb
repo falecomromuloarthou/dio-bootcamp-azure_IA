{
  "nbformat": 4,
  "nbformat_minor": 0,
  "metadata": {
    "colab": {
      "provenance": []
    },
    "kernelspec": {
      "name": "python3",
      "display_name": "Python 3"
    },
    "language_info": {
      "name": "python"
    }
  },
  "cells": [
    {
      "cell_type": "code",
      "execution_count": null,
      "metadata": {
        "colab": {
          "base_uri": "https://localhost:8080/"
        },
        "id": "uGuxOJD0sdeQ",
        "outputId": "5b973f96-4208-44ea-b07b-398462a6fd32"
      },
      "outputs": [
        {
          "output_type": "stream",
          "name": "stdout",
          "text": [
            "Requirement already satisfied: requests in /usr/local/lib/python3.10/dist-packages (2.32.3)\n",
            "Collecting python-docx\n",
            "  Downloading python_docx-1.1.2-py3-none-any.whl.metadata (2.0 kB)\n",
            "Requirement already satisfied: charset-normalizer<4,>=2 in /usr/local/lib/python3.10/dist-packages (from requests) (3.4.0)\n",
            "Requirement already satisfied: idna<4,>=2.5 in /usr/local/lib/python3.10/dist-packages (from requests) (3.10)\n",
            "Requirement already satisfied: urllib3<3,>=1.21.1 in /usr/local/lib/python3.10/dist-packages (from requests) (2.2.3)\n",
            "Requirement already satisfied: certifi>=2017.4.17 in /usr/local/lib/python3.10/dist-packages (from requests) (2024.8.30)\n",
            "Requirement already satisfied: lxml>=3.1.0 in /usr/local/lib/python3.10/dist-packages (from python-docx) (5.3.0)\n",
            "Requirement already satisfied: typing-extensions>=4.9.0 in /usr/local/lib/python3.10/dist-packages (from python-docx) (4.12.2)\n",
            "Downloading python_docx-1.1.2-py3-none-any.whl (244 kB)\n",
            "\u001b[2K   \u001b[90m━━━━━━━━━━━━━━━━━━━━━━━━━━━━━━━━━━━━━━━━\u001b[0m \u001b[32m244.3/244.3 kB\u001b[0m \u001b[31m3.8 MB/s\u001b[0m eta \u001b[36m0:00:00\u001b[0m\n",
            "\u001b[?25hInstalling collected packages: python-docx\n",
            "Successfully installed python-docx-1.1.2\n"
          ]
        }
      ],
      "source": [
        "!pip install requests python-docx"
      ]
    },
    {
      "cell_type": "code",
      "source": [
        "\"\"\"\n",
        "modelo de IA na Azure gratuito por até 2M de tokens/mês, API TextTranslation\n",
        "https://azure.microsoft.com/pt-br/pricing/details/cognitive-services/translator/\n",
        "https://learn.microsoft.com/en-us/azure/ai-services/translator/reference/rest-api-guide\n",
        "\"\"\"\n",
        "\n",
        "import requests\n",
        "from docx import Document\n",
        "import os\n",
        "import json\n",
        "\n",
        "# entrar na Azure e copiar a chave na área de network do recurso\n",
        "subscription_key = \"paste_here\"\n",
        "endpoint = 'https://api.cognitive.microsofttranslator.com/'\n",
        "location = \"eastus2\"\n",
        "origin_language = 'en'\n",
        "target_language = 'pt-br'\n",
        "\n",
        "def translator_text(text, target_language):\n",
        "  path = '/translate'\n",
        "  constructed_url = endpoint + path\n",
        "  headers = {\n",
        "      'Ocp-Apim-Subscription-Key': subscription_key,\n",
        "      'Ocp-Apim-Subscription-Region': location,\n",
        "      'Content-type': 'application/json',\n",
        "      'X-ClientTraceId': str(os.urandom(16))\n",
        "  }\n",
        "\n",
        "  body = [{\n",
        "      'text': text\n",
        "  }]\n",
        "\n",
        "  params = {\n",
        "      'api-version': '3.0',\n",
        "      'from': [origin_language],\n",
        "      'to': [target_language]\n",
        "  }\n",
        "\n",
        "  request = requests.post(constructed_url, params=params, headers=headers, json=body)\n",
        "  response = request.json()\n",
        "  return response[0][\"translations\"][0][\"text\"]"
      ],
      "metadata": {
        "id": "KXttFdndtbfv"
      },
      "execution_count": null,
      "outputs": []
    },
    {
      "cell_type": "code",
      "source": [
        "translator_text(\"No need for greed or hunger, a brotherhood of man\" , target_language)"
      ],
      "metadata": {
        "colab": {
          "base_uri": "https://localhost:8080/",
          "height": 36
        },
        "id": "q_c46_XPKN1x",
        "outputId": "80c973ce-3d0b-4a0e-ba9b-2864c32f8682"
      },
      "execution_count": null,
      "outputs": [
        {
          "output_type": "execute_result",
          "data": {
            "text/plain": [
              "'Não há necessidade de ganância ou fome, uma irmandade de homens'"
            ],
            "application/vnd.google.colaboratory.intrinsic+json": {
              "type": "string"
            }
          },
          "metadata": {},
          "execution_count": 19
        }
      ]
    },
    {
      "cell_type": "code",
      "source": [
        "def translator_document(path, target_language):\n",
        "  doc = Document(path)\n",
        "  full_text = []\n",
        "  for paragraph in doc.paragraphs:\n",
        "    translated_text = translator_text(paragraph.text, target_language)\n",
        "    full_text.append(translated_text)\n",
        "\n",
        "  transladed_doc = Document()\n",
        "  for line in full_text:\n",
        "    transladed_doc.add_paragraph(line)\n",
        "  path_translated = path.replace(\".docx\", f\"_{target_language}.docx\")\n",
        "  transladed_doc.save(path_translated)\n",
        "  return path_translated\n",
        "\n",
        "input_file = \"/content/letra Imagine de John Lenon.docx\"\n",
        "translator_document(input_file, target_language)"
      ],
      "metadata": {
        "colab": {
          "base_uri": "https://localhost:8080/",
          "height": 36
        },
        "id": "XO0ikyAHNLIo",
        "outputId": "c03dd644-fc38-4756-8daf-6ed25dcb6ff6"
      },
      "execution_count": null,
      "outputs": [
        {
          "output_type": "execute_result",
          "data": {
            "text/plain": [
              "'/content/letra Imagine de John Lenon_pt-br.docx'"
            ],
            "application/vnd.google.colaboratory.intrinsic+json": {
              "type": "string"
            }
          },
          "metadata": {},
          "execution_count": 27
        }
      ]
    }
  ]
}